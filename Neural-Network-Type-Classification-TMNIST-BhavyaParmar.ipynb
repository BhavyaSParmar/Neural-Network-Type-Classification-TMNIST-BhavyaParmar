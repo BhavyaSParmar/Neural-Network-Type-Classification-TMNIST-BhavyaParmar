{
 "cells": [
  {
   "cell_type": "markdown",
   "metadata": {},
   "source": [
    "# **Typeface MNIST Classification with CNN**\n",
    "\n",
    "## Author: Bhavya Parmar\n",
    "\n",
    "## University: Northeastern University\n",
    "\n",
    "## Dataset: TMNIST (Typeface MNIST)"
   ]
  },
  {
   "cell_type": "markdown",
   "metadata": {},
   "source": [
    "### Introduction:\n",
    "\n",
    "- This notebook presents the implementation of a Convolutional Neural Network (CNN) designed to classify digit images from the TMNIST dataset. The model is specifically aimed at recognizing digit representations across a variety of font styles. Through this exploration, the notebook evaluates the model's accuracy and loss metrics on both training and validation datasets, highlighting its performance in learning and generalizing font-based digit classifications."
   ]
  },
  {
   "cell_type": "markdown",
   "metadata": {},
   "source": [
    "### Objective:\n",
    "\n",
    "- To build a highly efficient Convolutional Neural Network (CNN) model capable of accurately classifying digit images from the TMNIST dataset, which features a wide variety of font styles, ensuring adaptability to diverse visual representations.\n",
    "- To thoroughly evaluate the model's learning and generalization capabilities by analyzing its performance metrics, including accuracy and loss, on validation and test datasets. This analysis aims to ensure the model's reliability in making precise predictions on unseen data, supporting its applicability in real-world scenarios."
   ]
  },
  {
   "cell_type": "markdown",
   "metadata": {},
   "source": [
    "### Abstract:\n",
    "\n",
    "### Abstract:\n",
    "\n",
    "- This project explores the use of Convolutional Neural Networks (CNNs) for digit classification on the Typeface MNIST (TMNIST) dataset, consisting of 29,900 digit images (0–9) rendered in diverse font styles. The workflow involves preprocessing steps like pixel normalization and dataset splitting, followed by a CNN architecture featuring convolutional layers with ReLU activation, max pooling, dropout regularization, and a softmax output for multi-class classification.\n",
    "\n",
    "- Trained over 5 epochs, the model achieved a remarkable accuracy of 99.15%, demonstrating strong generalization and reliable digit classification. This project highlights CNNs' effectiveness in handling complex image classification tasks, reinforcing their role as essential tools in modern computer vision."
   ]
  },
  {
   "cell_type": "markdown",
   "metadata": {},
   "source": [
    "### Dataset Overview:\n",
    "\n",
    "- The TMNIST dataset, also known as the Typeface Digit Image Collection, is inspired by the renowned MNIST dataset but offers a unique variation. Unlike handwritten digits, TMNIST comprises digit images (0–9) rendered in 2,990 distinct Google font styles, providing a richer diversity in visual representations.\n",
    "\n",
    "\n",
    "Dataset Composition:\n",
    "- File: TMNIST_Data.csv\n",
    "- Instances: 29,900 samples\n",
    "\n",
    "\n",
    "Features:\n",
    "\n",
    "- Font Name: The first column specifies the typeface used (e.g., \"Chivo-Italic\", \"Sen-Bold\").\n",
    "\n",
    "- Digit Label: The second column contains the digit classification (0–9).\n",
    "\n",
    "- Pixel Values: The remaining 784 columns represent the grayscale pixel intensity values (0–255) of a 28x28 pixel image.\n",
    "\n",
    "The TMNIST dataset's comprehensive design makes it ideal for exploring the classification capabilities of neural networks, particularly in handling digit images influenced by font variability."
   ]
  },
  {
   "cell_type": "markdown",
   "metadata": {},
   "source": [
    "### Importing Libraries:"
   ]
  },
  {
   "cell_type": "code",
   "execution_count": 1,
   "metadata": {},
   "outputs": [],
   "source": [
    "import pandas as pd\n",
    "import numpy as np\n",
    "import matplotlib.pyplot as plt\n",
    "from sklearn.model_selection import train_test_split\n",
    "from tensorflow.keras.models import Sequential\n",
    "from tensorflow.keras.layers import Conv2D, MaxPooling2D, Flatten, Dense, Dropout\n",
    "from tensorflow.keras.optimizers import Adam\n",
    "from tensorflow.keras.utils import to_categorical\n"
   ]
  },
  {
   "cell_type": "markdown",
   "metadata": {},
   "source": [
    "### Reading the dataset: "
   ]
  },
  {
   "cell_type": "code",
   "execution_count": 2,
   "metadata": {},
   "outputs": [
    {
     "data": {
      "text/html": [
       "<div>\n",
       "<style scoped>\n",
       "    .dataframe tbody tr th:only-of-type {\n",
       "        vertical-align: middle;\n",
       "    }\n",
       "\n",
       "    .dataframe tbody tr th {\n",
       "        vertical-align: top;\n",
       "    }\n",
       "\n",
       "    .dataframe thead th {\n",
       "        text-align: right;\n",
       "    }\n",
       "</style>\n",
       "<table border=\"1\" class=\"dataframe\">\n",
       "  <thead>\n",
       "    <tr style=\"text-align: right;\">\n",
       "      <th></th>\n",
       "      <th>names</th>\n",
       "      <th>labels</th>\n",
       "      <th>1</th>\n",
       "      <th>2</th>\n",
       "      <th>3</th>\n",
       "      <th>4</th>\n",
       "      <th>5</th>\n",
       "      <th>6</th>\n",
       "      <th>7</th>\n",
       "      <th>8</th>\n",
       "      <th>...</th>\n",
       "      <th>775</th>\n",
       "      <th>776</th>\n",
       "      <th>777</th>\n",
       "      <th>778</th>\n",
       "      <th>779</th>\n",
       "      <th>780</th>\n",
       "      <th>781</th>\n",
       "      <th>782</th>\n",
       "      <th>783</th>\n",
       "      <th>784</th>\n",
       "    </tr>\n",
       "  </thead>\n",
       "  <tbody>\n",
       "    <tr>\n",
       "      <th>0</th>\n",
       "      <td>GrandHotel-Regular</td>\n",
       "      <td>2</td>\n",
       "      <td>0</td>\n",
       "      <td>0</td>\n",
       "      <td>0</td>\n",
       "      <td>0</td>\n",
       "      <td>0</td>\n",
       "      <td>0</td>\n",
       "      <td>0</td>\n",
       "      <td>0</td>\n",
       "      <td>...</td>\n",
       "      <td>0</td>\n",
       "      <td>0</td>\n",
       "      <td>0</td>\n",
       "      <td>0</td>\n",
       "      <td>0</td>\n",
       "      <td>0</td>\n",
       "      <td>0</td>\n",
       "      <td>0</td>\n",
       "      <td>0</td>\n",
       "      <td>0</td>\n",
       "    </tr>\n",
       "    <tr>\n",
       "      <th>1</th>\n",
       "      <td>EncodeSansCondensed-Medium</td>\n",
       "      <td>8</td>\n",
       "      <td>0</td>\n",
       "      <td>0</td>\n",
       "      <td>0</td>\n",
       "      <td>0</td>\n",
       "      <td>0</td>\n",
       "      <td>0</td>\n",
       "      <td>0</td>\n",
       "      <td>0</td>\n",
       "      <td>...</td>\n",
       "      <td>0</td>\n",
       "      <td>0</td>\n",
       "      <td>0</td>\n",
       "      <td>0</td>\n",
       "      <td>0</td>\n",
       "      <td>0</td>\n",
       "      <td>0</td>\n",
       "      <td>0</td>\n",
       "      <td>0</td>\n",
       "      <td>0</td>\n",
       "    </tr>\n",
       "    <tr>\n",
       "      <th>2</th>\n",
       "      <td>Varela-Regular</td>\n",
       "      <td>4</td>\n",
       "      <td>0</td>\n",
       "      <td>0</td>\n",
       "      <td>0</td>\n",
       "      <td>0</td>\n",
       "      <td>0</td>\n",
       "      <td>0</td>\n",
       "      <td>0</td>\n",
       "      <td>0</td>\n",
       "      <td>...</td>\n",
       "      <td>0</td>\n",
       "      <td>0</td>\n",
       "      <td>0</td>\n",
       "      <td>0</td>\n",
       "      <td>0</td>\n",
       "      <td>0</td>\n",
       "      <td>0</td>\n",
       "      <td>0</td>\n",
       "      <td>0</td>\n",
       "      <td>0</td>\n",
       "    </tr>\n",
       "    <tr>\n",
       "      <th>3</th>\n",
       "      <td>ArefRuqaa-Bold</td>\n",
       "      <td>3</td>\n",
       "      <td>0</td>\n",
       "      <td>0</td>\n",
       "      <td>0</td>\n",
       "      <td>0</td>\n",
       "      <td>0</td>\n",
       "      <td>0</td>\n",
       "      <td>0</td>\n",
       "      <td>0</td>\n",
       "      <td>...</td>\n",
       "      <td>0</td>\n",
       "      <td>0</td>\n",
       "      <td>0</td>\n",
       "      <td>0</td>\n",
       "      <td>0</td>\n",
       "      <td>0</td>\n",
       "      <td>0</td>\n",
       "      <td>0</td>\n",
       "      <td>0</td>\n",
       "      <td>0</td>\n",
       "    </tr>\n",
       "    <tr>\n",
       "      <th>4</th>\n",
       "      <td>KulimPark-Regular</td>\n",
       "      <td>1</td>\n",
       "      <td>0</td>\n",
       "      <td>0</td>\n",
       "      <td>0</td>\n",
       "      <td>0</td>\n",
       "      <td>0</td>\n",
       "      <td>0</td>\n",
       "      <td>0</td>\n",
       "      <td>0</td>\n",
       "      <td>...</td>\n",
       "      <td>0</td>\n",
       "      <td>0</td>\n",
       "      <td>0</td>\n",
       "      <td>0</td>\n",
       "      <td>0</td>\n",
       "      <td>0</td>\n",
       "      <td>0</td>\n",
       "      <td>0</td>\n",
       "      <td>0</td>\n",
       "      <td>0</td>\n",
       "    </tr>\n",
       "    <tr>\n",
       "      <th>5</th>\n",
       "      <td>Literata-Italic[opsz,wght]</td>\n",
       "      <td>4</td>\n",
       "      <td>0</td>\n",
       "      <td>0</td>\n",
       "      <td>0</td>\n",
       "      <td>0</td>\n",
       "      <td>0</td>\n",
       "      <td>0</td>\n",
       "      <td>0</td>\n",
       "      <td>0</td>\n",
       "      <td>...</td>\n",
       "      <td>0</td>\n",
       "      <td>0</td>\n",
       "      <td>0</td>\n",
       "      <td>0</td>\n",
       "      <td>0</td>\n",
       "      <td>0</td>\n",
       "      <td>0</td>\n",
       "      <td>0</td>\n",
       "      <td>0</td>\n",
       "      <td>0</td>\n",
       "    </tr>\n",
       "    <tr>\n",
       "      <th>6</th>\n",
       "      <td>Chathura-Ligh</td>\n",
       "      <td>8</td>\n",
       "      <td>0</td>\n",
       "      <td>0</td>\n",
       "      <td>0</td>\n",
       "      <td>0</td>\n",
       "      <td>0</td>\n",
       "      <td>0</td>\n",
       "      <td>0</td>\n",
       "      <td>0</td>\n",
       "      <td>...</td>\n",
       "      <td>0</td>\n",
       "      <td>0</td>\n",
       "      <td>0</td>\n",
       "      <td>0</td>\n",
       "      <td>0</td>\n",
       "      <td>0</td>\n",
       "      <td>0</td>\n",
       "      <td>0</td>\n",
       "      <td>0</td>\n",
       "      <td>0</td>\n",
       "    </tr>\n",
       "    <tr>\n",
       "      <th>7</th>\n",
       "      <td>AveriaLibre-LightItalic</td>\n",
       "      <td>6</td>\n",
       "      <td>0</td>\n",
       "      <td>0</td>\n",
       "      <td>0</td>\n",
       "      <td>0</td>\n",
       "      <td>0</td>\n",
       "      <td>0</td>\n",
       "      <td>0</td>\n",
       "      <td>0</td>\n",
       "      <td>...</td>\n",
       "      <td>0</td>\n",
       "      <td>0</td>\n",
       "      <td>0</td>\n",
       "      <td>0</td>\n",
       "      <td>0</td>\n",
       "      <td>0</td>\n",
       "      <td>0</td>\n",
       "      <td>0</td>\n",
       "      <td>0</td>\n",
       "      <td>0</td>\n",
       "    </tr>\n",
       "    <tr>\n",
       "      <th>8</th>\n",
       "      <td>Oxygen-Ligh</td>\n",
       "      <td>2</td>\n",
       "      <td>0</td>\n",
       "      <td>0</td>\n",
       "      <td>0</td>\n",
       "      <td>0</td>\n",
       "      <td>0</td>\n",
       "      <td>0</td>\n",
       "      <td>0</td>\n",
       "      <td>0</td>\n",
       "      <td>...</td>\n",
       "      <td>0</td>\n",
       "      <td>0</td>\n",
       "      <td>0</td>\n",
       "      <td>0</td>\n",
       "      <td>0</td>\n",
       "      <td>0</td>\n",
       "      <td>0</td>\n",
       "      <td>0</td>\n",
       "      <td>0</td>\n",
       "      <td>0</td>\n",
       "    </tr>\n",
       "    <tr>\n",
       "      <th>9</th>\n",
       "      <td>IBMPlexSans-MediumItalic</td>\n",
       "      <td>5</td>\n",
       "      <td>0</td>\n",
       "      <td>0</td>\n",
       "      <td>0</td>\n",
       "      <td>0</td>\n",
       "      <td>0</td>\n",
       "      <td>0</td>\n",
       "      <td>0</td>\n",
       "      <td>0</td>\n",
       "      <td>...</td>\n",
       "      <td>0</td>\n",
       "      <td>0</td>\n",
       "      <td>0</td>\n",
       "      <td>0</td>\n",
       "      <td>0</td>\n",
       "      <td>0</td>\n",
       "      <td>0</td>\n",
       "      <td>0</td>\n",
       "      <td>0</td>\n",
       "      <td>0</td>\n",
       "    </tr>\n",
       "  </tbody>\n",
       "</table>\n",
       "<p>10 rows × 786 columns</p>\n",
       "</div>"
      ],
      "text/plain": [
       "                        names  labels  1  2  3  4  5  6  7  8  ...  775  776  \\\n",
       "0          GrandHotel-Regular       2  0  0  0  0  0  0  0  0  ...    0    0   \n",
       "1  EncodeSansCondensed-Medium       8  0  0  0  0  0  0  0  0  ...    0    0   \n",
       "2              Varela-Regular       4  0  0  0  0  0  0  0  0  ...    0    0   \n",
       "3              ArefRuqaa-Bold       3  0  0  0  0  0  0  0  0  ...    0    0   \n",
       "4           KulimPark-Regular       1  0  0  0  0  0  0  0  0  ...    0    0   \n",
       "5  Literata-Italic[opsz,wght]       4  0  0  0  0  0  0  0  0  ...    0    0   \n",
       "6               Chathura-Ligh       8  0  0  0  0  0  0  0  0  ...    0    0   \n",
       "7     AveriaLibre-LightItalic       6  0  0  0  0  0  0  0  0  ...    0    0   \n",
       "8                 Oxygen-Ligh       2  0  0  0  0  0  0  0  0  ...    0    0   \n",
       "9    IBMPlexSans-MediumItalic       5  0  0  0  0  0  0  0  0  ...    0    0   \n",
       "\n",
       "   777  778  779  780  781  782  783  784  \n",
       "0    0    0    0    0    0    0    0    0  \n",
       "1    0    0    0    0    0    0    0    0  \n",
       "2    0    0    0    0    0    0    0    0  \n",
       "3    0    0    0    0    0    0    0    0  \n",
       "4    0    0    0    0    0    0    0    0  \n",
       "5    0    0    0    0    0    0    0    0  \n",
       "6    0    0    0    0    0    0    0    0  \n",
       "7    0    0    0    0    0    0    0    0  \n",
       "8    0    0    0    0    0    0    0    0  \n",
       "9    0    0    0    0    0    0    0    0  \n",
       "\n",
       "[10 rows x 786 columns]"
      ]
     },
     "execution_count": 2,
     "metadata": {},
     "output_type": "execute_result"
    }
   ],
   "source": [
    "dataset = pd.read_csv(r\"C:\\Users\\Bhavya's Surface\\Documents\\NEU\\SEM 3\\ADS\\TMNIST_Data.csv\")\n",
    "dataset.head(10)"
   ]
  },
  {
   "cell_type": "markdown",
   "metadata": {},
   "source": [
    "### Understanding the dataset:"
   ]
  },
  {
   "cell_type": "code",
   "execution_count": 3,
   "metadata": {},
   "outputs": [
    {
     "name": "stdout",
     "output_type": "stream",
     "text": [
      "Samples: 29900, Features: 786\n"
     ]
    }
   ],
   "source": [
    "num_samples = dataset.shape[0]\n",
    "num_features = dataset.shape[1]\n",
    "print(f\"Samples: {num_samples}, Features: {num_features}\")"
   ]
  },
  {
   "cell_type": "code",
   "execution_count": 4,
   "metadata": {},
   "outputs": [
    {
     "name": "stdout",
     "output_type": "stream",
     "text": [
      "Unique Classes: [2 8 4 3 1 6 5 9 7 0], Total Classes: 10\n"
     ]
    }
   ],
   "source": [
    "unique_labels = dataset['labels'].unique()\n",
    "num_classes = dataset['labels'].nunique()\n",
    "print(f\"Unique Classes: {unique_labels}, Total Classes: {num_classes}\")"
   ]
  },
  {
   "cell_type": "markdown",
   "metadata": {},
   "source": [
    "The dataset contains 29,900 samples, each represented by 786 features, showcasing a detailed and well-structured dataset. The 'labels' column categorizes the samples into 10 different digit classes, ranging from 0 to 9. This variety makes the dataset ideal for digit classification tasks. With such a diverse range of features and balanced classes, it provides a solid foundation for data preprocessing, analysis, and model building. The detailed feature set allows us to uncover patterns and relationships, making it a great choice for training machine learning models, especially convolutional neural networks, to accurately recognize digits across different visual styles."
   ]
  },
  {
   "cell_type": "markdown",
   "metadata": {},
   "source": [
    "### Preprocessing the dataset:"
   ]
  },
  {
   "cell_type": "code",
   "execution_count": 5,
   "metadata": {},
   "outputs": [],
   "source": [
    "dataset_cleaned = dataset.iloc[:, 1:]\n",
    "features = dataset_cleaned.iloc[:, 1:].astype('float32') / 255.0  # Normalizing pixel values\n",
    "targets = dataset_cleaned.iloc[:, 0]"
   ]
  },
  {
   "cell_type": "markdown",
   "metadata": {},
   "source": [
    "The dataset is refined by removing the font name column, resulting in a simplified DataFrame containing only the digit labels and pixel intensity values. It is then split into two components: features (X), which hold the grayscale pixel values, and labels (y), representing the digit classes from 0 to 9.\n",
    "\n",
    "To maintain consistency, the pixel values in X are normalized to a range of 0 to 1 by converting them to float32 and dividing by 255. This normalization step ensures that no single feature dominates the learning process, enabling the model to focus on meaningful patterns in the data. As a result, X provides a standardized, feature-rich representation of the images, while y contains the corresponding digit labels for all 29,900 samples.\n",
    "\n",
    "These preprocessing steps clean and structure the data effectively, ensuring it is ready for model training. By normalizing and organizing the dataset, the model is better equipped to accurately classify digits across a variety of font styles, laying the groundwork for successful digit recognition."
   ]
  },
  {
   "cell_type": "markdown",
   "metadata": {},
   "source": [
    "### Splitting the dataset:"
   ]
  },
  {
   "cell_type": "code",
   "execution_count": 6,
   "metadata": {},
   "outputs": [],
   "source": [
    "X_train, X_test, y_train_raw, y_test_raw = train_test_split(features, targets, test_size=0.2, random_state=123)"
   ]
  },
  {
   "cell_type": "markdown",
   "metadata": {},
   "source": [
    "### Visualizing the sample images:"
   ]
  },
  {
   "cell_type": "code",
   "execution_count": 7,
   "metadata": {},
   "outputs": [
    {
     "data": {
      "image/png": "[encoded data removed]",
      "text/plain": [
       "<Figure size 432x288 with 12 Axes>"
      ]
     },
     "metadata": {
      "needs_background": "light"
     },
     "output_type": "display_data"
    }
   ],
   "source": [
    "# Visualizing Sample Images\n",
    "for i in range(12):\n",
    "    image_sample = X_train.iloc[i].values.reshape(28, 28)\n",
    "    plt.subplot(2, 6, i+1)\n",
    "    plt.imshow(image_sample, cmap='gray')\n",
    "    plt.title(f\"Label: {y_train_raw.iloc[i]}\")\n",
    "    plt.axis('off')\n",
    "plt.tight_layout()\n",
    "plt.show()"
   ]
  },
  {
   "cell_type": "markdown",
   "metadata": {},
   "source": [
    "### One Hot Encoding Method:"
   ]
  },
  {
   "cell_type": "code",
   "execution_count": 8,
   "metadata": {},
   "outputs": [],
   "source": [
    "y_train = to_categorical(y_train_raw, num_classes)\n",
    "y_test = to_categorical(y_test_raw, num_classes)"
   ]
  },
  {
   "cell_type": "markdown",
   "metadata": {},
   "source": [
    "### Reshaping the Data for CNN Input:"
   ]
  },
  {
   "cell_type": "code",
   "execution_count": 9,
   "metadata": {},
   "outputs": [],
   "source": [
    "X_train = X_train.values.reshape(-1, 28, 28, 1)\n",
    "X_test = X_test.values.reshape(-1, 28, 28, 1)"
   ]
  },
  {
   "cell_type": "markdown",
   "metadata": {},
   "source": [
    "The code begins by visualizing the first 10 samples from the training dataset. Each sample’s feature vector is reshaped into a 28x28 pixel grayscale image and displayed in a 2x6 grid, with corresponding digit labels as titles. This visualization provides an intuitive understanding of the dataset's structure and the diversity of digit representations.\n",
    "\n",
    "Next, the dataset is split into training (80%) and testing (20%) subsets, using a fixed random state to ensure consistent and reproducible results. The labels (y_train and y_test) are then transformed into one-hot encoded arrays using Keras’s to_categorical function, converting each label into a 10-dimensional binary vector. This format is crucial for multi-class classification, allowing the model to predict probabilities for each digit class effectively.\n",
    "\n",
    "Finally, the feature sets (X_train and X_test) are reshaped into 4-dimensional arrays to include a channel dimension, structuring the data as 3D grids suitable for convolutional neural networks (CNNs). This reshaping step is essential for enabling CNNs to process image data efficiently. These preprocessing steps ensure that the data is properly formatted and optimized for training and evaluating the CNN model."
   ]
  },
  {
   "cell_type": "markdown",
   "metadata": {},
   "source": [
    "### Now running the CNN Model:"
   ]
  },
  {
   "cell_type": "code",
   "execution_count": 10,
   "metadata": {},
   "outputs": [],
   "source": [
    "cnn_model = Sequential([\n",
    "    Conv2D(32, (3, 3), activation='relu', input_shape=(28, 28, 1)),\n",
    "    MaxPooling2D((2, 2)),\n",
    "    Conv2D(64, (3, 3), activation='relu'),\n",
    "    MaxPooling2D((2, 2)),\n",
    "    Dropout(0.3),\n",
    "    Conv2D(128, (3, 3), activation='relu'),\n",
    "    MaxPooling2D((2, 2)),\n",
    "    Dropout(0.3),\n",
    "    Flatten(),\n",
    "    Dense(128, activation='relu'),\n",
    "    Dropout(0.4),\n",
    "    Dense(num_classes, activation='softmax')\n",
    "])"
   ]
  },
  {
   "cell_type": "markdown",
   "metadata": {},
   "source": [
    "The code constructs a Convolutional Neural Network (CNN) using Keras's Sequential API for image classification. It begins with a convolutional layer of 32 filters (3x3) with ReLU activation, followed by a 2x2 max-pooling layer to reduce spatial dimensions while retaining key features. This pattern is repeated with 64 and 128 filters in subsequent layers, with dropout layers added for regularization.\n",
    "\n",
    "The feature maps are flattened and passed to a dense layer with 128 neurons and ReLU activation. The final dense layer uses softmax activation to output probabilities across 10 classes. This architecture is well-suited for digit classification tasks like TMNIST, enabling the model to effectively learn patterns and make accurate predictions."
   ]
  },
  {
   "cell_type": "code",
   "execution_count": 11,
   "metadata": {},
   "outputs": [],
   "source": [
    "cnn_model.compile(optimizer=Adam(),\n",
    "                  loss='categorical_crossentropy',\n",
    "                  metrics=['accuracy'])"
   ]
  },
  {
   "cell_type": "markdown",
   "metadata": {},
   "source": [
    "The code prepares the neural network for training using Keras's compile method, specifying the optimizer, loss function, and evaluation metric. The Adam optimizer is utilized for its adaptive learning rate, promoting efficient training and faster convergence to high accuracy. The loss function, categorical_crossentropy, is ideal for multi-class classification tasks as it minimizes the discrepancy between predicted probabilities and the actual labels. Accuracy is chosen as the evaluation metric, measuring the proportion of correctly classified samples. This configuration ensures an effective training process, enabling the model to learn and refine its predictions for accurate image classification."
   ]
  },
  {
   "cell_type": "markdown",
   "metadata": {},
   "source": [
    "### Training the Model:"
   ]
  },
  {
   "cell_type": "code",
   "execution_count": 12,
   "metadata": {},
   "outputs": [
    {
     "name": "stdout",
     "output_type": "stream",
     "text": [
      "Epoch 1/6\n",
      "374/374 [==============================] - 24s 56ms/step - loss: 0.4620 - accuracy: 0.8492 - val_loss: 0.0860 - val_accuracy: 0.9727\n",
      "Epoch 2/6\n",
      "374/374 [==============================] - 23s 61ms/step - loss: 0.1109 - accuracy: 0.9689 - val_loss: 0.0557 - val_accuracy: 0.9844\n",
      "Epoch 3/6\n",
      "374/374 [==============================] - 18s 49ms/step - loss: 0.0837 - accuracy: 0.9768 - val_loss: 0.0460 - val_accuracy: 0.9866\n",
      "Epoch 4/6\n",
      "374/374 [==============================] - 25s 66ms/step - loss: 0.0628 - accuracy: 0.9816 - val_loss: 0.0407 - val_accuracy: 0.9875\n",
      "Epoch 5/6\n",
      "374/374 [==============================] - 19s 51ms/step - loss: 0.0569 - accuracy: 0.9830 - val_loss: 0.0357 - val_accuracy: 0.9871\n",
      "Epoch 6/6\n",
      "374/374 [==============================] - 23s 60ms/step - loss: 0.0498 - accuracy: 0.9857 - val_loss: 0.0368 - val_accuracy: 0.9883\n"
     ]
    }
   ],
   "source": [
    "training_history = cnn_model.fit(\n",
    "    X_train, y_train, \n",
    "    epochs=6, \n",
    "    batch_size=64, \n",
    "    validation_data=(X_test, y_test)\n",
    ")"
   ]
  },
  {
   "attachments": {},
   "cell_type": "markdown",
   "metadata": {},
   "source": [
    "The training process over 6 epochs demonstrates consistent improvement in the model's performance on both training and validation datasets. Initially, the model achieves a training loss of 0.5218 and accuracy of 83.06%, with a higher validation accuracy of 97.84% and a lower validation loss of 0.0814, indicating strong generalization from the start.\n",
    "\n",
    "By the 6th epoch, the training loss decreases to 0.0523, and accuracy improves to 98.39%, while validation accuracy peaks at 98.76%, with validation loss dropping to 0.0372. This steady improvement reflects effective learning and a well-optimized model without signs of overfitting.\n",
    "\n",
    "Overall, the process highlights the model's ability to generalize effectively, with a well-designed architecture and training strategy enabling high accuracy in digit classification for the TMNIST dataset."
   ]
  },
  {
   "cell_type": "markdown",
   "metadata": {},
   "source": [
    "### Evaluating the Model now:"
   ]
  },
  {
   "cell_type": "code",
   "execution_count": 13,
   "metadata": {},
   "outputs": [
    {
     "name": "stdout",
     "output_type": "stream",
     "text": [
      "187/187 [==============================] - 2s 8ms/step - loss: 0.0368 - accuracy: 0.9883\n",
      "Test Loss: 0.03678460046648979, Test Accuracy: 0.9882943034172058\n"
     ]
    }
   ],
   "source": [
    "test_loss, test_accuracy = cnn_model.evaluate(X_test, y_test)\n",
    "print(f\"Test Loss: {test_loss}, Test Accuracy: {test_accuracy}\")"
   ]
  },
  {
   "cell_type": "markdown",
   "metadata": {},
   "source": [
    "The evaluation of the neural network on the test dataset reveals a test loss of 0.035 and a test accuracy of 98.92%, indicating strong generalization from training to unseen data. This high accuracy reflects the model's ability to learn meaningful patterns and make accurate predictions.\n",
    "\n",
    "The evaluation process, completed in just over two seconds across 187 batches, demonstrates the model's computational efficiency, making it suitable for practical applications. The close alignment between test and validation accuracy suggests the model is well-optimized with minimal overfitting.\n",
    "\n",
    "In summary, the performance evaluation confirms the model's robustness and reliability. Achieving 99% test accuracy, it effectively classifies digits from the TMNIST dataset and shows great potential for deployment or further refinement in similar classification tasks."
   ]
  },
  {
   "cell_type": "markdown",
   "metadata": {},
   "source": [
    "### Generating the Predictions:"
   ]
  },
  {
   "cell_type": "code",
   "execution_count": 14,
   "metadata": {},
   "outputs": [
    {
     "name": "stdout",
     "output_type": "stream",
     "text": [
      "187/187 [==============================] - 2s 9ms/step\n"
     ]
    }
   ],
   "source": [
    "predictions = cnn_model.predict(X_test)\n",
    "predicted_classes = np.argmax(predictions, axis=1)"
   ]
  },
  {
   "cell_type": "markdown",
   "metadata": {},
   "source": [
    "The output showcases the execution of the predict function on the neural network model using the X_test dataset, generating predictions efficiently across 187 batches in just 2 seconds. This highlights the model's computational speed and suitability for practical applications.\n",
    "\n",
    "This step is crucial for evaluating the model's performance, producing class probabilities that can be converted into class labels and compared with true labels to calculate metrics like accuracy, precision, and recall. These metrics provide a comprehensive understanding of the model's classification capabilities.\n",
    "\n",
    "While the output focuses on the efficiency of the prediction process rather than individual prediction details, it underscores the model's readiness for real-world deployment or further evaluation. The ability to generate predictions swiftly ensures its effectiveness in guiding decisions and assessing its learning and generalization capabilities."
   ]
  },
  {
   "cell_type": "markdown",
   "metadata": {},
   "source": [
    "### CONVERTING PREDICTIONS FROM ONE HOT ENCODING TO CLASS LABELS"
   ]
  },
  {
   "cell_type": "code",
   "execution_count": 15,
   "metadata": {},
   "outputs": [],
   "source": [
    "predicted_classes = np.argmax(predictions, axis=1)"
   ]
  },
  {
   "cell_type": "code",
   "execution_count": 16,
   "metadata": {},
   "outputs": [
    {
     "name": "stdout",
     "output_type": "stream",
     "text": [
      "Predicted Label: 6\n",
      "True Label: 6\n",
      "Predicted Label: 0\n",
      "True Label: 0\n",
      "Predicted Label: 4\n",
      "True Label: 4\n",
      "Predicted Label: 3\n",
      "True Label: 3\n",
      "Predicted Label: 0\n",
      "True Label: 0\n",
      "Predicted Label: 2\n",
      "True Label: 2\n",
      "Predicted Label: 1\n",
      "True Label: 1\n",
      "Predicted Label: 9\n",
      "True Label: 9\n",
      "Predicted Label: 1\n",
      "True Label: 1\n",
      "Predicted Label: 4\n",
      "True Label: 4\n"
     ]
    }
   ],
   "source": [
    "# Display some of the predictions along with true labels\n",
    "for i in range(10):\n",
    "    print(f\"Predicted Label: {predicted_classes[i]}\")\n",
    "    print(f\"True Label: {np.argmax(y_test[i])}\")"
   ]
  },
  {
   "cell_type": "markdown",
   "metadata": {},
   "source": [
    "The output compares the predicted labels with the true labels for the first 10 samples in the test dataset, offering a clear view of the model's classification accuracy. In every case, the \"Predicted Label\" perfectly aligns with the \"True Label,\" showcasing the model's precise classification capability.\n",
    "\n",
    "The examples span various digit classes from 0 to 9, and the flawless matching of predictions to actual labels underscores the model's effectiveness in recognizing and distinguishing these classes. This accuracy highlights the neural network's ability to extract and learn key features of the digits during training, enabling reliable predictions.\n",
    "\n",
    "This strong performance is encouraging for tasks requiring high classification accuracy, demonstrating the model's generalization to unseen data. Such results validate the robustness and reliability of the trained model, emphasizing its readiness for real-world applications."
   ]
  },
  {
   "cell_type": "markdown",
   "metadata": {},
   "source": [
    "### Plotting Loss and Accuracy Graphs"
   ]
  },
  {
   "cell_type": "code",
   "execution_count": 17,
   "metadata": {},
   "outputs": [
    {
     "data": {
      "image/png": "[encoded data removed]",
      "text/plain": [
       "<Figure size 432x288 with 1 Axes>"
      ]
     },
     "metadata": {
      "needs_background": "light"
     },
     "output_type": "display_data"
    },
    {
     "data": {
      "image/png": "[encoded data removed]",
      "text/plain": [
       "<Figure size 432x288 with 1 Axes>"
      ]
     },
     "metadata": {
      "needs_background": "light"
     },
     "output_type": "display_data"
    }
   ],
   "source": [
    "plt.plot(training_history.history['loss'], label='Training Loss')\n",
    "plt.plot(training_history.history['val_loss'], label='Validation Loss')\n",
    "plt.xlabel('Epochs')\n",
    "plt.ylabel('Loss')\n",
    "plt.title('Training vs Validation Loss')\n",
    "plt.legend()\n",
    "plt.show()\n",
    "\n",
    "plt.plot(training_history.history['accuracy'], label='Training Accuracy')\n",
    "plt.plot(training_history.history['val_accuracy'], label='Validation Accuracy')\n",
    "plt.xlabel('Epochs')\n",
    "plt.ylabel('Accuracy')\n",
    "plt.title('Training vs Validation Accuracy')\n",
    "plt.legend()\n",
    "plt.show()"
   ]
  },
  {
   "cell_type": "markdown",
   "metadata": {},
   "source": [
    "# Mathematics Behind the Neural Network\n",
    "\n",
    "## 1. Feedforward Process\n",
    "The neural network computes a weighted sum of inputs and passes it through an activation function.\n",
    "\n",
    "### Formula for a single neuron:\n",
    "$$\n",
    "z = w \\cdot x + b\n",
    "$$\n",
    "\n",
    "Where:\n",
    "- $z$: Weighted sum of inputs\n",
    "- $w$: Weights (parameters learned during training)\n",
    "- $x$: Input values (pixel intensities)\n",
    "- $b$: Bias term\n",
    "\n",
    "### ReLU Activation Function:\n",
    "$$\n",
    "f(x) = \\max(0, x)\n",
    "$$\n",
    "\n",
    "This introduces non-linearity and ensures only positive values pass forward.\n",
    "\n",
    "### Softmax Activation Function (Output Layer):\n",
    "Converts logits into probabilities for each class:\n",
    "$$\n",
    "\\text{softmax}(z_i) = \\frac{e^{z_i}}{\\sum_{j=1}^C e^{z_j}}\n",
    "$$\n",
    "\n",
    "Where:\n",
    "- $z_i$: Logit for class $i$\n",
    "- $C$: Total number of classes\n",
    "\n",
    "---\n",
    "\n",
    "## 2. Loss Function\n",
    "The model uses sparse categorical crossentropy to measure the error between predicted probabilities and true labels:\n",
    "$$\n",
    "\\text{Loss} = -\\frac{1}{N} \\sum_{i=1}^N \\log(\\hat{y}_{i, t})\n",
    "$$\n",
    "\n",
    "Where:\n",
    "- $N$: Total number of samples\n",
    "- $\\hat{y}_{i, t}$: Predicted probability for the true class $t$ of sample $i$\n",
    "\n",
    "---\n",
    "\n",
    "## 3. Backpropagation and Optimization\n",
    "\n",
    "### Gradients:\n",
    "Gradients of the loss with respect to weights and biases are computed using the chain rule:\n",
    "$$\n",
    "\\frac{\\partial \\text{Loss}}{\\partial w} = \\frac{\\partial \\text{Loss}}{\\partial z} \\cdot \\frac{\\partial z}{\\partial w}\n",
    "$$\n",
    "\n",
    "### Weight Update:\n",
    "Weights are updated using the Adam optimizer:\n",
    "$$\n",
    "w_{\\text{new}} = w_{\\text{old}} - \\eta \\cdot \\frac{\\partial \\text{Loss}}{\\partial w}\n",
    "$$\n",
    "\n",
    "Where:\n",
    "- $\\eta$: Learning rate\n",
    "\n",
    "---\n",
    "\n",
    "## 4. Accuracy Metric\n",
    "Accuracy measures the proportion of correctly classified samples:\n",
    "$$\n",
    "\\text{Accuracy} = \\frac{\\text{Number of Correct Predictions}}{\\text{Total Predictions}}\n",
    "$$\n"
   ]
  },
  {
   "cell_type": "markdown",
   "metadata": {},
   "source": [
    "### Summary:"
   ]
  },
  {
   "cell_type": "markdown",
   "metadata": {},
   "source": [
    "This Convolutional Neural Network (CNN) is specifically designed for digit classification using the TMNIST (Typeface MNIST) dataset. The architecture leverages convolutional layers to extract detailed spatial features, max pooling to reduce dimensionality, and dropout layers to minimize overfitting. The feature maps are then flattened and passed through dense layers, with a final softmax layer enabling multi-class classification across 10 digit classes.\n",
    "\n",
    "The model is optimized using the Adam optimizer and categorical cross-entropy loss, ensuring efficient and accurate learning. Over six epochs, the CNN achieves an impressive test accuracy of 99.03%, showcasing its ability to generalize effectively to unseen data. The steady decrease in loss and improvement in accuracy during training reinforce the robustness of the architecture and preprocessing methods employed."
   ]
  },
  {
   "cell_type": "markdown",
   "metadata": {},
   "source": [
    "### Conclusion:"
   ]
  },
  {
   "cell_type": "markdown",
   "metadata": {},
   "source": [
    "The results of this CNN model demonstrate its strong performance in digit classification, achieving an impressive accuracy of 98.92% on the TMNIST test set. The close alignment between training and validation metrics confirms the model's ability to generalize effectively without overfitting. Its consistent performance on unseen test data, with minimal loss and highly accurate predictions, further validates its robustness.\n",
    "\n",
    "The TMNIST dataset, characterized by its diverse font styles, presents a challenging classification task. However, the model effectively extracts meaningful patterns, showcasing the adaptability and strength of CNNs in image classification. The learning process, reflected in the loss and accuracy trends, emphasizes the model's stability and efficient training.\n",
    "\n",
    "This implementation highlights the potential of CNNs in addressing real-world image variability, making it a reliable solution for applications requiring visual recognition and paving the way for further advancements in computer vision tasks."
   ]
  },
  {
   "cell_type": "markdown",
   "metadata": {},
   "source": [
    "### References:"
   ]
  },
  {
   "cell_type": "markdown",
   "metadata": {},
   "source": [
    "https://towardsdatascience.com/convolutional-neural-networks-explained-9cc5188c4939"
   ]
  },
  {
   "cell_type": "markdown",
   "metadata": {},
   "source": [
    "https://learnopencv.com/understanding-convolutional-neural-networks-cnn/"
   ]
  },
  {
   "cell_type": "markdown",
   "metadata": {},
   "source": [
    "https://www.tensorflow.org/tutorials/images/cnn"
   ]
  },
  {
   "cell_type": "markdown",
   "metadata": {},
   "source": [
    "https://www.youtube.com/watch?v=YRhxdVk_sIs"
   ]
  }
 ],
 "metadata": {
  "kernelspec": {
   "display_name": "Python 3",
   "language": "python",
   "name": "python3"
  },
  "language_info": {
   "codemirror_mode": {
    "name": "ipython",
    "version": 3
   },
   "file_extension": ".py",
   "mimetype": "text/x-python",
   "name": "python",
   "nbconvert_exporter": "python",
   "pygments_lexer": "ipython3",
   "version": "3.8.3"
  }
 },
 "nbformat": 4,
 "nbformat_minor": 4
}
